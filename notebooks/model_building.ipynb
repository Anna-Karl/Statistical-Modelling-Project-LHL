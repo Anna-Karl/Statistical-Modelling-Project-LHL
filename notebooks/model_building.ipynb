{
 "cells": [
  {
   "cell_type": "markdown",
   "metadata": {},
   "source": [
    "##### Build a regression model."
   ]
  },
  {
   "cell_type": "code",
   "execution_count": 2,
   "metadata": {},
   "outputs": [],
   "source": [
    "import pandas as pd\n",
    "import statsmodels.api as sm\n",
    "from patsy.builtins import *"
   ]
  },
  {
   "cell_type": "code",
   "execution_count": 4,
   "metadata": {},
   "outputs": [
    {
     "name": "stdout",
     "output_type": "stream",
     "text": [
      "                            OLS Regression Results                            \n",
      "==============================================================================\n",
      "Dep. Variable:             free_bikes   R-squared:                       0.072\n",
      "Model:                            OLS   Adj. R-squared:                  0.067\n",
      "Method:                 Least Squares   F-statistic:                     14.29\n",
      "Date:                Mon, 04 Sep 2023   Prob (F-statistic):           5.60e-09\n",
      "Time:                        05:39:49   Log-Likelihood:                -970.82\n",
      "No. Observations:                 558   AIC:                             1950.\n",
      "Df Residuals:                     554   BIC:                             1967.\n",
      "Df Model:                           3                                         \n",
      "Covariance Type:            nonrobust                                         \n",
      "========================================================================================\n",
      "                           coef    std err          t      P>|t|      [0.025      0.975]\n",
      "----------------------------------------------------------------------------------------\n",
      "const                    5.9433      2.430      2.445      0.015       1.169      10.717\n",
      "number_places           -0.0202      0.005     -4.147      0.000      -0.030      -0.011\n",
      "place_popularity_avg   -12.7161      2.840     -4.477      0.000     -18.295      -7.138\n",
      "place_rating_avr         0.8542      0.357      2.396      0.017       0.154       1.555\n",
      "==============================================================================\n",
      "Omnibus:                       19.474   Durbin-Watson:                   0.074\n",
      "Prob(Omnibus):                  0.000   Jarque-Bera (JB):               20.886\n",
      "Skew:                           0.465   Prob(JB):                     2.92e-05\n",
      "Kurtosis:                       2.822   Cond. No.                     2.22e+03\n",
      "==============================================================================\n",
      "\n",
      "Notes:\n",
      "[1] Standard Errors assume that the covariance matrix of the errors is correctly specified.\n",
      "[2] The condition number is large, 2.22e+03. This might indicate that there are\n",
      "strong multicollinearity or other numerical problems.\n"
     ]
    }
   ],
   "source": [
    "# Importing dataframe\n",
    "\n",
    "df_model = pd.read_csv('df_merged.csv')\n",
    "df_model.head()\n",
    "\n",
    "#Filtering for dependent and independent variables\n",
    "\n",
    "df_model = df_model[['free_bikes', 'number_places', 'place_popularity_avg', 'place_rating_avr']] \n",
    "df_model = df_model.dropna()\n",
    "\n",
    "#Independent variables\n",
    "\n",
    "x = df_model[['number_places', 'place_popularity_avg', 'place_rating_avr']] \n",
    "\n",
    "#Dependent variables\n",
    "\n",
    "y = df_model['free_bikes'] \n",
    "\n",
    "# adding a constant\n",
    "\n",
    "x = sm.add_constant(x) \n",
    "lin_reg = sm.OLS(y,x)\n",
    "\n",
    "\n",
    "model = lin_reg.fit()\n",
    "print_model = model.summary()\n",
    "print(print_model)"
   ]
  },
  {
   "cell_type": "markdown",
   "metadata": {},
   "source": [
    "##### Provide model output and an interpretation of the results. "
   ]
  },
  {
   "cell_type": "markdown",
   "metadata": {},
   "source": [
    "R-squared (R^2): The R-squared value is 0.072, which means that approximately 7.2% of the variance in the dependent variable (free_bikes) is explained by the independent variables (number_places, place_popularity_avg, and place_rating_avr). This suggests that the model has relatively low explanatory power, and a significant portion of the variation in free_bikes remains unexplained.\n",
    "\n",
    "F-statistic: The F-statistic is 14.29 with a very low p-value (5.60e-09), indicating that at least one of the independent variables in the model is collectively contributing to the explanation of the variance in free_bikes. \n",
    "\n",
    "Correlation Coefficients:\n",
    "\n",
    "number_places: The coefficient is -0.0202. We can ignore the influence of this variable as the value tends to zero.\n",
    "\n",
    "place_popularity_avg: The coefficient is -12.7161. It is not a valid value within the range of -1 to 1. There is a mistake or misinterpretation of the results.\n",
    "\n",
    "place_rating_avr: The coefficient is 0.8542. This suggests that holding other variables constant, a one-unit increase in place_rating_avr leads to an increase of approximately 0.8542 units in free bikes. Higher average place ratings have a positive impact on the number of free bikes. It would be logical to assume the reverse situation: the high rating of places leads to high attendance and therefore fewer free bikes\n",
    "\n",
    "Statistical Significance (P-values): All three independent variables have p-values less than 0.05, indicating that they are statistically significant predictors of the dependent variable, free_bikes.\n",
    "\n",
    "In summary, the regression results suggest that the model's explanatory power is relatively low, and there may be other unaccounted factors affecting the number of free bikes. Further investigation and potentially including additional variables may be necessary to improve the model's predictive accuracy. "
   ]
  },
  {
   "cell_type": "markdown",
   "metadata": {},
   "source": [
    "# Stretch"
   ]
  },
  {
   "cell_type": "markdown",
   "metadata": {},
   "source": [
    "##### How can you turn the regression model into a classification model?"
   ]
  },
  {
   "cell_type": "markdown",
   "metadata": {},
   "source": [
    "To turn the provided regression model into a classification model, we need to define specific categories or classes for the dependent variable (free_bikes) and set up a threshold or rule for classifying observations into these categories. Steps of the process could be:\n",
    "\n",
    "* Define classification categories or classes we want to predict based on the values of free_bikes. \n",
    "* Set thresholds that divide the continuous free_bikes values into the defined classes. \n",
    "* Assign Class Labels to the defined categories. \n",
    "* Modify the regression model's output to provide class labels (0, 1, or 2) instead of the continuous predicted values. "
   ]
  },
  {
   "cell_type": "code",
   "execution_count": null,
   "metadata": {},
   "outputs": [],
   "source": []
  }
 ],
 "metadata": {
  "kernelspec": {
   "display_name": "Python 3 (ipykernel)",
   "language": "python",
   "name": "python3"
  },
  "language_info": {
   "codemirror_mode": {
    "name": "ipython",
    "version": 3
   },
   "file_extension": ".py",
   "mimetype": "text/x-python",
   "name": "python",
   "nbconvert_exporter": "python",
   "pygments_lexer": "ipython3",
   "version": "3.11.3"
  }
 },
 "nbformat": 4,
 "nbformat_minor": 4
}
